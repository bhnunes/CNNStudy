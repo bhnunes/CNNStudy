{
  "nbformat": 4,
  "nbformat_minor": 0,
  "metadata": {
    "colab": {
      "provenance": [],
      "authorship_tag": "ABX9TyOjF0Q0jp0wyiApuJYscNWk",
      "include_colab_link": true
    },
    "kernelspec": {
      "name": "python3",
      "display_name": "Python 3"
    },
    "language_info": {
      "name": "python"
    }
  },
  "cells": [
    {
      "cell_type": "markdown",
      "metadata": {
        "id": "view-in-github",
        "colab_type": "text"
      },
      "source": [
        "<a href=\"https://colab.research.google.com/github/bhnunes/CNNStudy/blob/main/CNNStudy.ipynb\" target=\"_parent\"><img src=\"https://colab.research.google.com/assets/colab-badge.svg\" alt=\"Open In Colab\"/></a>"
      ]
    },
    {
      "cell_type": "code",
      "execution_count": 14,
      "metadata": {
        "id": "DYs8ZuAotTcg"
      },
      "outputs": [],
      "source": [
        "import numpy as np\n",
        "import json\n",
        "from keras.applications.vgg16 import VGG16\n",
        "from keras.preprocessing.image import img_to_array, load_img\n",
        "from keras.applications.imagenet_utils import preprocess_input\n",
        "import requests"
      ]
    },
    {
      "cell_type": "code",
      "source": [
        "# URL of the raw file on GitHub\n",
        "url = \"https://raw.githubusercontent.com/bhnunes/CNNStudy/main/imagenet_class_index.json\"\n",
        "testUrl = \"https://upload.wikimedia.org/wikipedia/commons/thumb/d/d0/German_Shepherd_-_DSC_0346_%2810096362833%29.jpg/220px-German_Shepherd_-_DSC_0346_%2810096362833%29.jpg\"\n",
        "\n",
        "\n",
        "def getFile(url,fileName, mode):\n",
        "  response = requests.get(url)\n",
        "  if response.status_code ==  200:\n",
        "      with open(fileName, mode) as file:\n",
        "        if mode =='w':\n",
        "          file.write(response.text)\n",
        "        else:\n",
        "          file.write(response.content)\n",
        "  else:\n",
        "      print(f\"Failed to download the file. Status code: {response.status_code}\")\n",
        "\n",
        "\n",
        "\n"
      ],
      "metadata": {
        "id": "HagABBroSDUV"
      },
      "execution_count": 17,
      "outputs": []
    },
    {
      "cell_type": "code",
      "source": [
        "getFile(url,'imagenet_class_index.json', 'w')\n",
        "getFile(testUrl,'test_image.jpg', 'wb')\n"
      ],
      "metadata": {
        "id": "_UFlKLpxUMFn"
      },
      "execution_count": 18,
      "outputs": []
    },
    {
      "cell_type": "code",
      "source": [
        "#download VGG16\n",
        "vgg16=VGG16(weights='imagenet')"
      ],
      "metadata": {
        "id": "lH_fUSdkuiUs"
      },
      "execution_count": 19,
      "outputs": []
    },
    {
      "cell_type": "code",
      "source": [
        "vgg16.save('vgg16.h5')"
      ],
      "metadata": {
        "colab": {
          "base_uri": "https://localhost:8080/"
        },
        "id": "pXFSw3VIukzf",
        "outputId": "e6b6ab6a-edd4-41b9-f3c2-c57dcb57ceed"
      },
      "execution_count": 20,
      "outputs": [
        {
          "output_type": "stream",
          "name": "stderr",
          "text": [
            "/usr/local/lib/python3.10/dist-packages/keras/src/engine/training.py:3103: UserWarning: You are saving your model as an HDF5 file via `model.save()`. This file format is considered legacy. We recommend using instead the native Keras format, e.g. `model.save('my_model.keras')`.\n",
            "  saving_api.save_model(\n",
            "WARNING:tensorflow:Compiled the loaded model, but the compiled metrics have yet to be built. `model.compile_metrics` will be empty until you train or evaluate the model.\n"
          ]
        }
      ]
    },
    {
      "cell_type": "code",
      "source": [
        "def prepare_image(img_path):\n",
        "  img=load_img(img_path, target_size=(224,224))\n",
        "  x=img_to_array(img)\n",
        "  x=np.expand_dims(x,axis=0)\n",
        "  x=preprocess_input(x)\n",
        "  return x"
      ],
      "metadata": {
        "id": "UJ7iDzovvInX"
      },
      "execution_count": 21,
      "outputs": []
    },
    {
      "cell_type": "code",
      "source": [
        "imagePath = \"/content/test_image.jpg\"\n",
        "y = prepare_image(imagePath)"
      ],
      "metadata": {
        "id": "Y_ZTD_oTwFRs"
      },
      "execution_count": 22,
      "outputs": []
    },
    {
      "cell_type": "code",
      "source": [
        "preds=vgg16.predict(y)"
      ],
      "metadata": {
        "colab": {
          "base_uri": "https://localhost:8080/"
        },
        "id": "-k-udmBDzqat",
        "outputId": "2d8dc41b-7dd7-45f7-d642-92872d1a4e26"
      },
      "execution_count": 23,
      "outputs": [
        {
          "output_type": "stream",
          "name": "stdout",
          "text": [
            "1/1 [==============================] - 1s 1s/step\n"
          ]
        }
      ]
    },
    {
      "cell_type": "code",
      "source": [
        "CLASS_INDEX=None\n",
        "CLASS_INDEX_PATH=\"/content/imagenet_class_index.json\""
      ],
      "metadata": {
        "id": "vVo9aWoG1D6-"
      },
      "execution_count": 24,
      "outputs": []
    },
    {
      "cell_type": "code",
      "source": [
        "def get_predictions(preds,top=5):\n",
        "  global CLASS_INDEX\n",
        "\n",
        "  CLASS_INDEX=json.load(open(CLASS_INDEX_PATH))\n",
        "\n",
        "  results=[]\n",
        "  for pred in preds:\n",
        "    top_indices=pred.argsort()[-top:][::-1]\n",
        "    result=[tuple(CLASS_INDEX[str(i)]) + (pred[i],) for i in top_indices]\n",
        "    result.sort(key=lambda x: x[2], reverse=True)\n",
        "    results.append(result)\n",
        "  return results"
      ],
      "metadata": {
        "id": "36o3iAnY1Rro"
      },
      "execution_count": 25,
      "outputs": []
    },
    {
      "cell_type": "code",
      "source": [
        "print(get_predictions(preds,top=5))"
      ],
      "metadata": {
        "colab": {
          "base_uri": "https://localhost:8080/"
        },
        "id": "BtmU5goJ5ei0",
        "outputId": "eb6d7886-4899-4b11-9f04-5c9c4fd04931"
      },
      "execution_count": 26,
      "outputs": [
        {
          "output_type": "stream",
          "name": "stdout",
          "text": [
            "[[('n02106662', 'German_shepherd', 0.99837816), ('n02105162', 'malinois', 0.0015710895), ('n03803284', 'muzzle', 1.9646503e-05), ('n02105056', 'groenendael', 9.4065235e-06), ('n02105412', 'kelpie', 7.3132423e-06)]]\n"
          ]
        }
      ]
    }
  ]
}