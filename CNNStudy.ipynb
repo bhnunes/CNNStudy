{
  "nbformat": 4,
  "nbformat_minor": 0,
  "metadata": {
    "colab": {
      "provenance": [],
      "authorship_tag": "ABX9TyPMP8jCV77LUr3rIw93Mrdx",
      "include_colab_link": true
    },
    "kernelspec": {
      "name": "python3",
      "display_name": "Python 3"
    },
    "language_info": {
      "name": "python"
    }
  },
  "cells": [
    {
      "cell_type": "markdown",
      "metadata": {
        "id": "view-in-github",
        "colab_type": "text"
      },
      "source": [
        "<a href=\"https://colab.research.google.com/github/bhnunes/CNNStudy/blob/main/CNNStudy.ipynb\" target=\"_parent\"><img src=\"https://colab.research.google.com/assets/colab-badge.svg\" alt=\"Open In Colab\"/></a>"
      ]
    },
    {
      "cell_type": "code",
      "execution_count": 35,
      "metadata": {
        "id": "DYs8ZuAotTcg"
      },
      "outputs": [],
      "source": [
        "import numpy as np\n",
        "import json\n",
        "from keras.applications.vgg16 import VGG16\n",
        "from keras.preprocessing.image import img_to_array, load_img\n",
        "from keras.applications.imagenet_utils import preprocess_input"
      ]
    },
    {
      "cell_type": "code",
      "source": [
        "#download VGG16\n",
        "vgg16=VGG16(weights='imagenet')"
      ],
      "metadata": {
        "id": "lH_fUSdkuiUs"
      },
      "execution_count": 36,
      "outputs": []
    },
    {
      "cell_type": "code",
      "source": [
        "vgg16.save('vgg16.h5')"
      ],
      "metadata": {
        "colab": {
          "base_uri": "https://localhost:8080/"
        },
        "id": "pXFSw3VIukzf",
        "outputId": "93c2ffc8-adeb-4fbc-94d6-be522d7e9ddf"
      },
      "execution_count": 37,
      "outputs": [
        {
          "output_type": "stream",
          "name": "stderr",
          "text": [
            "/usr/local/lib/python3.10/dist-packages/keras/src/engine/training.py:3103: UserWarning: You are saving your model as an HDF5 file via `model.save()`. This file format is considered legacy. We recommend using instead the native Keras format, e.g. `model.save('my_model.keras')`.\n",
            "  saving_api.save_model(\n",
            "WARNING:tensorflow:Compiled the loaded model, but the compiled metrics have yet to be built. `model.compile_metrics` will be empty until you train or evaluate the model.\n"
          ]
        }
      ]
    },
    {
      "cell_type": "code",
      "source": [
        "def prepare_image(img_path):\n",
        "  img=load_img(img_path, target_size=(224,224))\n",
        "  x=img_to_array(img)\n",
        "  x=np.expand_dims(x,axis=0)\n",
        "  x=preprocess_input(x)\n",
        "  return x"
      ],
      "metadata": {
        "id": "UJ7iDzovvInX"
      },
      "execution_count": 38,
      "outputs": []
    },
    {
      "cell_type": "code",
      "source": [
        "imagePath = \"/content/test_image.jpg\"\n",
        "y = prepare_image(imagePath)"
      ],
      "metadata": {
        "id": "Y_ZTD_oTwFRs"
      },
      "execution_count": 39,
      "outputs": []
    },
    {
      "cell_type": "code",
      "source": [
        "preds=vgg16.predict(y)"
      ],
      "metadata": {
        "colab": {
          "base_uri": "https://localhost:8080/"
        },
        "id": "-k-udmBDzqat",
        "outputId": "06b69ad9-cffc-44ae-b486-75381cc552b0"
      },
      "execution_count": 40,
      "outputs": [
        {
          "output_type": "stream",
          "name": "stdout",
          "text": [
            "1/1 [==============================] - 2s 2s/step\n"
          ]
        }
      ]
    },
    {
      "cell_type": "code",
      "source": [
        "CLASS_INDEX=None\n",
        "CLASS_INDEX_PATH=\"/content/imagenet_class_index.json\""
      ],
      "metadata": {
        "id": "vVo9aWoG1D6-"
      },
      "execution_count": 41,
      "outputs": []
    },
    {
      "cell_type": "code",
      "source": [
        "def get_predictions(preds,top=5):\n",
        "  global CLASS_INDEX\n",
        "\n",
        "  CLASS_INDEX=json.load(open(CLASS_INDEX_PATH))\n",
        "\n",
        "  results=[]\n",
        "  for pred in preds:\n",
        "    top_indices=pred.argsort()[-top:][::-1]\n",
        "    result=[tuple(CLASS_INDEX[str(i)]) + (pred[i],) for i in top_indices]\n",
        "    result.sort(key=lambda x: x[2], reverse=True)\n",
        "    results.append(result)\n",
        "  return results"
      ],
      "metadata": {
        "id": "36o3iAnY1Rro"
      },
      "execution_count": 44,
      "outputs": []
    },
    {
      "cell_type": "code",
      "source": [
        "print(get_predictions(preds,top=5))"
      ],
      "metadata": {
        "colab": {
          "base_uri": "https://localhost:8080/"
        },
        "id": "BtmU5goJ5ei0",
        "outputId": "b0b20fbe-da2f-4b79-a207-0de1315abb77"
      },
      "execution_count": 45,
      "outputs": [
        {
          "output_type": "stream",
          "name": "stdout",
          "text": [
            "[[('n02109047', 'Great_Dane', 0.71246487), ('n02099712', 'Labrador_retriever', 0.13573234), ('n02099267', 'flat-coated_retriever', 0.105223656), ('n02097130', 'giant_schnauzer', 0.013601281), ('n02087394', 'Rhodesian_ridgeback', 0.008055633)]]\n"
          ]
        }
      ]
    }
  ]
}